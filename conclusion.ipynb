{
 "cells": [
  {
   "cell_type": "markdown",
   "id": "c0643c26",
   "metadata": {},
   "source": [
    "# Methodology"
   ]
  },
  {
   "cell_type": "markdown",
   "id": "77c07269",
   "metadata": {},
   "source": [
    "### Understanding the Environment and its Rewards\n",
    "\n",
    "The environment is a 2D grid world where the agent can move in four directions: up, down, left, and right. There are 3 different types of tiles: \n",
    "- **Empty tiles**: The agent can move freely on these tiles.\n",
    "- **Wall tiles**: The agent cannot move through these tiles.\n",
    "- **Goal tile**: The agent receives a reward of +1 when it reaches this tile.\n",
    "\n",
    "The agent starts at a random position on the grid and must visit all goal tiles, making this a CPP (Coverage Path Planning) problem. The agent receives a reward of +2 for each goal tile it visits and a penalty of -1 for each step it takes to encourage shorter paths."
   ]
  }
 ],
 "metadata": {
  "language_info": {
   "name": "python"
  }
 },
 "nbformat": 4,
 "nbformat_minor": 5
}
